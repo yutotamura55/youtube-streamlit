{
 "cells": [
  {
   "cell_type": "code",
   "execution_count": null,
   "metadata": {},
   "outputs": [],
   "source": []
  },
  {
   "cell_type": "code",
   "execution_count": 11,
   "metadata": {},
   "outputs": [
    {
     "name": "stdout",
     "output_type": "stream",
     "text": [
      "Requirement already satisfied: google-api-python-client in c:\\users\\tamura\\desktop\\udemy\\streamlit\\venv\\lib\\site-packages (2.137.0)\n",
      "Requirement already satisfied: httplib2<1.dev0,>=0.19.0 in c:\\users\\tamura\\desktop\\udemy\\streamlit\\venv\\lib\\site-packages (from google-api-python-client) (0.22.0)\n",
      "Requirement already satisfied: google-auth!=2.24.0,!=2.25.0,<3.0.0.dev0,>=1.32.0 in c:\\users\\tamura\\desktop\\udemy\\streamlit\\venv\\lib\\site-packages (from google-api-python-client) (2.32.0)\n",
      "Requirement already satisfied: google-auth-httplib2<1.0.0,>=0.2.0 in c:\\users\\tamura\\desktop\\udemy\\streamlit\\venv\\lib\\site-packages (from google-api-python-client) (0.2.0)\n",
      "Requirement already satisfied: google-api-core!=2.0.*,!=2.1.*,!=2.2.*,!=2.3.0,<3.0.0.dev0,>=1.31.5 in c:\\users\\tamura\\desktop\\udemy\\streamlit\\venv\\lib\\site-packages (from google-api-python-client) (2.19.1)\n",
      "Requirement already satisfied: uritemplate<5,>=3.0.1 in c:\\users\\tamura\\desktop\\udemy\\streamlit\\venv\\lib\\site-packages (from google-api-python-client) (4.1.1)\n",
      "Requirement already satisfied: googleapis-common-protos<2.0.dev0,>=1.56.2 in c:\\users\\tamura\\desktop\\udemy\\streamlit\\venv\\lib\\site-packages (from google-api-core!=2.0.*,!=2.1.*,!=2.2.*,!=2.3.0,<3.0.0.dev0,>=1.31.5->google-api-python-client) (1.63.2)\n",
      "Requirement already satisfied: protobuf!=3.20.0,!=3.20.1,!=4.21.0,!=4.21.1,!=4.21.2,!=4.21.3,!=4.21.4,!=4.21.5,<6.0.0.dev0,>=3.19.5 in c:\\users\\tamura\\desktop\\udemy\\streamlit\\venv\\lib\\site-packages (from google-api-core!=2.0.*,!=2.1.*,!=2.2.*,!=2.3.0,<3.0.0.dev0,>=1.31.5->google-api-python-client) (5.27.2)\n",
      "Requirement already satisfied: proto-plus<2.0.0dev,>=1.22.3 in c:\\users\\tamura\\desktop\\udemy\\streamlit\\venv\\lib\\site-packages (from google-api-core!=2.0.*,!=2.1.*,!=2.2.*,!=2.3.0,<3.0.0.dev0,>=1.31.5->google-api-python-client) (1.24.0)\n",
      "Requirement already satisfied: requests<3.0.0.dev0,>=2.18.0 in c:\\users\\tamura\\desktop\\udemy\\streamlit\\venv\\lib\\site-packages (from google-api-core!=2.0.*,!=2.1.*,!=2.2.*,!=2.3.0,<3.0.0.dev0,>=1.31.5->google-api-python-client) (2.32.3)\n",
      "Requirement already satisfied: cachetools<6.0,>=2.0.0 in c:\\users\\tamura\\desktop\\udemy\\streamlit\\venv\\lib\\site-packages (from google-auth!=2.24.0,!=2.25.0,<3.0.0.dev0,>=1.32.0->google-api-python-client) (5.3.3)\n",
      "Requirement already satisfied: pyasn1-modules>=0.2.1 in c:\\users\\tamura\\desktop\\udemy\\streamlit\\venv\\lib\\site-packages (from google-auth!=2.24.0,!=2.25.0,<3.0.0.dev0,>=1.32.0->google-api-python-client) (0.4.0)\n",
      "Requirement already satisfied: rsa<5,>=3.1.4 in c:\\users\\tamura\\desktop\\udemy\\streamlit\\venv\\lib\\site-packages (from google-auth!=2.24.0,!=2.25.0,<3.0.0.dev0,>=1.32.0->google-api-python-client) (4.9)\n",
      "Requirement already satisfied: pyparsing!=3.0.0,!=3.0.1,!=3.0.2,!=3.0.3,<4,>=2.4.2 in c:\\users\\tamura\\desktop\\udemy\\streamlit\\venv\\lib\\site-packages (from httplib2<1.dev0,>=0.19.0->google-api-python-client) (3.1.2)\n",
      "Requirement already satisfied: pyasn1<0.7.0,>=0.4.6 in c:\\users\\tamura\\desktop\\udemy\\streamlit\\venv\\lib\\site-packages (from pyasn1-modules>=0.2.1->google-auth!=2.24.0,!=2.25.0,<3.0.0.dev0,>=1.32.0->google-api-python-client) (0.6.0)\n",
      "Requirement already satisfied: charset-normalizer<4,>=2 in c:\\users\\tamura\\desktop\\udemy\\streamlit\\venv\\lib\\site-packages (from requests<3.0.0.dev0,>=2.18.0->google-api-core!=2.0.*,!=2.1.*,!=2.2.*,!=2.3.0,<3.0.0.dev0,>=1.31.5->google-api-python-client) (3.3.2)\n",
      "Requirement already satisfied: idna<4,>=2.5 in c:\\users\\tamura\\desktop\\udemy\\streamlit\\venv\\lib\\site-packages (from requests<3.0.0.dev0,>=2.18.0->google-api-core!=2.0.*,!=2.1.*,!=2.2.*,!=2.3.0,<3.0.0.dev0,>=1.31.5->google-api-python-client) (3.7)\n",
      "Requirement already satisfied: urllib3<3,>=1.21.1 in c:\\users\\tamura\\desktop\\udemy\\streamlit\\venv\\lib\\site-packages (from requests<3.0.0.dev0,>=2.18.0->google-api-core!=2.0.*,!=2.1.*,!=2.2.*,!=2.3.0,<3.0.0.dev0,>=1.31.5->google-api-python-client) (2.2.1)\n",
      "Requirement already satisfied: certifi>=2017.4.17 in c:\\users\\tamura\\desktop\\udemy\\streamlit\\venv\\lib\\site-packages (from requests<3.0.0.dev0,>=2.18.0->google-api-core!=2.0.*,!=2.1.*,!=2.2.*,!=2.3.0,<3.0.0.dev0,>=1.31.5->google-api-python-client) (2024.6.2)\n"
     ]
    },
    {
     "name": "stderr",
     "output_type": "stream",
     "text": [
      "\n",
      "[notice] A new release of pip is available: 24.0 -> 24.1.2\n",
      "[notice] To update, run: python.exe -m pip install --upgrade pip\n"
     ]
    }
   ],
   "source": [
    "!pip3 install google-api-python-client"
   ]
  },
  {
   "cell_type": "code",
   "execution_count": null,
   "metadata": {},
   "outputs": [],
   "source": []
  },
  {
   "cell_type": "code",
   "execution_count": 12,
   "metadata": {},
   "outputs": [
    {
     "name": "stdout",
     "output_type": "stream",
     "text": [
      "{'kind': 'youtube#searchListResponse', 'etag': 'QZvd0o4Gg-e79r9koFfQp78uQjI', 'nextPageToken': 'CB4QAA', 'regionCode': 'JP', 'pageInfo': {'totalResults': 1000000, 'resultsPerPage': 30}, 'items': [{'kind': 'youtube#searchResult', 'etag': 'qouBI5DZWIyK0GUF_HY9Bc7QMek', 'id': {'kind': 'youtube#video', 'videoId': 'pDWgh-EpYck'}, 'snippet': {'publishedAt': '2020-12-02T14:05:55Z', 'channelId': 'UCMMjv61LfBy5J3AT8Ua0NGQ', 'title': '一般人とプログラマーの違い', 'description': 'チャンネル登録はこちら   http://www.youtube.com/channel/UCMMjv61LfBy5J3AT8Ua0NGQ?sub_confirmation=1 ...', 'thumbnails': {'default': {'url': 'https://i.ytimg.com/vi/pDWgh-EpYck/default.jpg', 'width': 120, 'height': 90}, 'medium': {'url': 'https://i.ytimg.com/vi/pDWgh-EpYck/mqdefault.jpg', 'width': 320, 'height': 180}, 'high': {'url': 'https://i.ytimg.com/vi/pDWgh-EpYck/hqdefault.jpg', 'width': 480, 'height': 360}}, 'channelTitle': 'エンジニアチャンネル', 'liveBroadcastContent': 'none', 'publishTime': '2020-12-02T14:05:55Z'}}, {'kind': 'youtube#searchResult', 'etag': 'Q21Q0FC6sKg6zjJEr6uOQYcm-38', 'id': {'kind': 'youtube#video', 'videoId': 'vEQ8CXFWLZU'}, 'snippet': {'publishedAt': '2022-07-12T12:00:40Z', 'channelId': 'UCcJQ96WlEhJ0Ve0SLmU310Q', 'title': '3 PYTHON AUTOMATION PROJECTS FOR BEGINNERS', 'description': 'Go from Beginner to Python Developer - https://bit.ly/3TFjhsS Build these simple beginner Python projects to practice your Python ...', 'thumbnails': {'default': {'url': 'https://i.ytimg.com/vi/vEQ8CXFWLZU/default.jpg', 'width': 120, 'height': 90}, 'medium': {'url': 'https://i.ytimg.com/vi/vEQ8CXFWLZU/mqdefault.jpg', 'width': 320, 'height': 180}, 'high': {'url': 'https://i.ytimg.com/vi/vEQ8CXFWLZU/hqdefault.jpg', 'width': 480, 'height': 360}}, 'channelTitle': 'Internet Made Coder', 'liveBroadcastContent': 'none', 'publishTime': '2022-07-12T12:00:40Z'}}, {'kind': 'youtube#searchResult', 'etag': 'wf_hsArXDxZfr5ktGaT9t-zPXx0', 'id': {'kind': 'youtube#video', 'videoId': 'PXMJ6FS7llk'}, 'snippet': {'publishedAt': '2022-06-20T15:24:45Z', 'channelId': 'UC8butISFwT-Wl7EV0hUK0BQ', 'title': 'Automate with Python – Full Course for Beginners', 'description': 'Learn how to automate your life with Python! You will learn how to automate boring and repetitive tasks such as creating an Excel ...', 'thumbnails': {'default': {'url': 'https://i.ytimg.com/vi/PXMJ6FS7llk/default.jpg', 'width': 120, 'height': 90}, 'medium': {'url': 'https://i.ytimg.com/vi/PXMJ6FS7llk/mqdefault.jpg', 'width': 320, 'height': 180}, 'high': {'url': 'https://i.ytimg.com/vi/PXMJ6FS7llk/hqdefault.jpg', 'width': 480, 'height': 360}}, 'channelTitle': 'freeCodeCamp.org', 'liveBroadcastContent': 'none', 'publishTime': '2022-06-20T15:24:45Z'}}, {'kind': 'youtube#searchResult', 'etag': '-S74-CxUmdJO1jAkxWfWjaef06w', 'id': {'kind': 'youtube#video', 'videoId': 'bsq2YY-XAEo'}, 'snippet': {'publishedAt': '2021-04-07T10:00:28Z', 'channelId': 'UC0xRMqPOyRNPTaL6BxhbCnQ', 'title': '【実演】めんどくさい業務をプログラミング（Python）で自動化する過程をお見せします', 'description': 'ビジネス戦闘力が圧倒的に向上するプログラミングスクール 『code4biz』  \\u200d   ↓説明会はこちら↓ http://code4biz.jp/ ※ 締切 ...', 'thumbnails': {'default': {'url': 'https://i.ytimg.com/vi/bsq2YY-XAEo/default.jpg', 'width': 120, 'height': 90}, 'medium': {'url': 'https://i.ytimg.com/vi/bsq2YY-XAEo/mqdefault.jpg', 'width': 320, 'height': 180}, 'high': {'url': 'https://i.ytimg.com/vi/bsq2YY-XAEo/hqdefault.jpg', 'width': 480, 'height': 360}}, 'channelTitle': 'いまにゅのプログラミング塾', 'liveBroadcastContent': 'none', 'publishTime': '2021-04-07T10:00:28Z'}}, {'kind': 'youtube#searchResult', 'etag': 'NqqmavJzH14GdzJCXMVt6XDPV0E', 'id': {'kind': 'youtube#video', 'videoId': '-5v7CuXm7Ns'}, 'snippet': {'publishedAt': '2020-05-20T11:41:43Z', 'channelId': 'UCGlgXjYVoHLD86TQQ799WIw', 'title': 'Pythonで面倒なExcelの仕事を自動化しよう( 第一弾 )｜一瞬で仕事がおわるプログラミング活用術', 'description': 'キノコードが作ったプログラミング学習 サービス登場／ 学んだ知識をその場でアウトプットできるからスキルの定着が実感できる ...', 'thumbnails': {'default': {'url': 'https://i.ytimg.com/vi/-5v7CuXm7Ns/default.jpg', 'width': 120, 'height': 90}, 'medium': {'url': 'https://i.ytimg.com/vi/-5v7CuXm7Ns/mqdefault.jpg', 'width': 320, 'height': 180}, 'high': {'url': 'https://i.ytimg.com/vi/-5v7CuXm7Ns/hqdefault.jpg', 'width': 480, 'height': 360}}, 'channelTitle': 'キノコード / プログラミング学習チャンネル', 'liveBroadcastContent': 'none', 'publishTime': '2020-05-20T11:41:43Z'}}, {'kind': 'youtube#searchResult', 'etag': 'Z6Sh7PCLdOZkCYy6_BuZgzdK1YE', 'id': {'kind': 'youtube#video', 'videoId': 'UFdEp9wrtOY'}, 'snippet': {'publishedAt': '2022-06-09T14:08:08Z', 'channelId': 'UCbXgNpp0jedKWcQiULLbDTA', 'title': 'Avoid endless if-else statements with this Python Tip!!', 'description': 'Avoid endless if-else statements with this Python Tip! Find Python jobs: https://pythonengineer.pallet.com ⭐ Join Our Discord ...', 'thumbnails': {'default': {'url': 'https://i.ytimg.com/vi/UFdEp9wrtOY/default.jpg', 'width': 120, 'height': 90}, 'medium': {'url': 'https://i.ytimg.com/vi/UFdEp9wrtOY/mqdefault.jpg', 'width': 320, 'height': 180}, 'high': {'url': 'https://i.ytimg.com/vi/UFdEp9wrtOY/hqdefault.jpg', 'width': 480, 'height': 360}}, 'channelTitle': 'Patrick Loeber', 'liveBroadcastContent': 'none', 'publishTime': '2022-06-09T14:08:08Z'}}, {'kind': 'youtube#searchResult', 'etag': 'kkBiW_Ss-okUFtO_PyBgbqJDVPs', 'id': {'kind': 'youtube#video', 'videoId': 'KmqEyT7HznQ'}, 'snippet': {'publishedAt': '2021-02-13T10:00:15Z', 'channelId': 'UC0xRMqPOyRNPTaL6BxhbCnQ', 'title': 'PythonでExcel自動化を行いたい人がまず見るべき講座｜PythonによるExcel自動操作入門 連結版', 'description': 'ビジネス戦闘力が圧倒的に向上するプログラミングスクール 『code4biz』  \\u200d   ↓説明会はこちら↓ http://code4biz.jp/ ※ 締切 ...', 'thumbnails': {'default': {'url': 'https://i.ytimg.com/vi/KmqEyT7HznQ/default.jpg', 'width': 120, 'height': 90}, 'medium': {'url': 'https://i.ytimg.com/vi/KmqEyT7HznQ/mqdefault.jpg', 'width': 320, 'height': 180}, 'high': {'url': 'https://i.ytimg.com/vi/KmqEyT7HznQ/hqdefault.jpg', 'width': 480, 'height': 360}}, 'channelTitle': 'いまにゅのプログラミング塾', 'liveBroadcastContent': 'none', 'publishTime': '2021-02-13T10:00:15Z'}}, {'kind': 'youtube#searchResult', 'etag': 'nxy09EkPDQ3gAMmyOVd5kZxxLgo', 'id': {'kind': 'youtube#video', 'videoId': 'FDnd3rPnKpc'}, 'snippet': {'publishedAt': '2023-08-30T08:00:13Z', 'channelId': 'UCc1sntWEyGXMhH0fXI5mMiQ', 'title': 'ついにExcelにpythonが搭載されたそうです(・ω・)ノ【使い方・活用例】', 'description': 'あの～。Excelにpythonが搭載されてもーてますわ。。 とりあえず手始めに、\"超ざっくりとした使い方\"をメインに紹介。', 'thumbnails': {'default': {'url': 'https://i.ytimg.com/vi/FDnd3rPnKpc/default.jpg', 'width': 120, 'height': 90}, 'medium': {'url': 'https://i.ytimg.com/vi/FDnd3rPnKpc/mqdefault.jpg', 'width': 320, 'height': 180}, 'high': {'url': 'https://i.ytimg.com/vi/FDnd3rPnKpc/hqdefault.jpg', 'width': 480, 'height': 360}}, 'channelTitle': 'わちょんのゆっくりIT', 'liveBroadcastContent': 'none', 'publishTime': '2023-08-30T08:00:13Z'}}, {'kind': 'youtube#searchResult', 'etag': 'ltpP8l_yH3dyra8jepoDXRXBYLM', 'id': {'kind': 'youtube#video', 'videoId': 'VRFfAeW30qE'}, 'snippet': {'publishedAt': '2020-12-19T10:15:00Z', 'channelId': 'UC0xRMqPOyRNPTaL6BxhbCnQ', 'title': '【Webスクレイピング超入門】2時間で基礎を完全マスター！PythonによるWebスクレイピング入門 連結版', 'description': 'ビジネス戦闘力が圧倒的に向上するプログラミングスクール 『code4biz』  \\u200d   ↓説明会はこちら↓ http://code4biz.jp/ ※ 締切 ...', 'thumbnails': {'default': {'url': 'https://i.ytimg.com/vi/VRFfAeW30qE/default.jpg', 'width': 120, 'height': 90}, 'medium': {'url': 'https://i.ytimg.com/vi/VRFfAeW30qE/mqdefault.jpg', 'width': 320, 'height': 180}, 'high': {'url': 'https://i.ytimg.com/vi/VRFfAeW30qE/hqdefault.jpg', 'width': 480, 'height': 360}}, 'channelTitle': 'いまにゅのプログラミング塾', 'liveBroadcastContent': 'none', 'publishTime': '2020-12-19T10:15:00Z'}}, {'kind': 'youtube#searchResult', 'etag': 'J722w3e2yL60i2g0ucm1lz5EtrQ', 'id': {'kind': 'youtube#video', 'videoId': 'LgZ8Li97yoM'}, 'snippet': {'publishedAt': '2020-05-25T10:00:23Z', 'channelId': 'UCGlgXjYVoHLD86TQQ799WIw', 'title': 'Pythonで面倒な「ブラウザ操作」や「データ収集」の作業を自動化しよう｜Webスクレイピングの基本的な内容をわかりやすく解説｜PythonでWebスクレイピング第01回', 'description': 'キノコードが作ったプログラミング学習 サービス登場／ 学んだ知識をその場でアウトプットできるからスキルの定着が実感できる ...', 'thumbnails': {'default': {'url': 'https://i.ytimg.com/vi/LgZ8Li97yoM/default.jpg', 'width': 120, 'height': 90}, 'medium': {'url': 'https://i.ytimg.com/vi/LgZ8Li97yoM/mqdefault.jpg', 'width': 320, 'height': 180}, 'high': {'url': 'https://i.ytimg.com/vi/LgZ8Li97yoM/hqdefault.jpg', 'width': 480, 'height': 360}}, 'channelTitle': 'キノコード / プログラミング学習チャンネル', 'liveBroadcastContent': 'none', 'publishTime': '2020-05-25T10:00:23Z'}}, {'kind': 'youtube#searchResult', 'etag': 'tDPOLJYHhlnele1lGVc8LG3td5U', 'id': {'kind': 'youtube#video', 'videoId': 'mYX9AaJF2lw'}, 'snippet': {'publishedAt': '2021-08-15T13:51:34Z', 'channelId': 'UCrZOiJyMbXpZ8T5snCIJaLA', 'title': '【python】自動化操作excel (openpyxl) #excel #python #自動化', 'description': 'excel python 自動化openpyxl ⭐️ 目錄⭐️ ⌨️ (00:00) 蔣幹畫⌨️ (00:19) 安裝openpyxl ⌨️ (01:04) 讀取excel檔案(Workbook) ...', 'thumbnails': {'default': {'url': 'https://i.ytimg.com/vi/mYX9AaJF2lw/default.jpg', 'width': 120, 'height': 90}, 'medium': {'url': 'https://i.ytimg.com/vi/mYX9AaJF2lw/mqdefault.jpg', 'width': 320, 'height': 180}, 'high': {'url': 'https://i.ytimg.com/vi/mYX9AaJF2lw/hqdefault.jpg', 'width': 480, 'height': 360}}, 'channelTitle': 'GrandmaCan -我阿嬤都會', 'liveBroadcastContent': 'none', 'publishTime': '2021-08-15T13:51:34Z'}}, {'kind': 'youtube#searchResult', 'etag': 'UZ2yOqefkMwKCrrWlCEx4USbT4k', 'id': {'kind': 'youtube#video', 'videoId': 'ximjGyZ93YQ'}, 'snippet': {'publishedAt': '2021-07-14T10:05:17Z', 'channelId': 'UCrZOiJyMbXpZ8T5snCIJaLA', 'title': '【python】selenium 網頁自動化、網路爬蟲 ｜ 爬蟲 ｜ python 爬蟲  ｜ 自動化 ｜pycharm ｜ #爬蟲 #python爬蟲 #自動化', 'description': 'selenium 網頁自動化網路爬蟲python爬蟲pycharm ⭐️ 目錄⭐️ ⌨️ (0:00:00) 介紹⌨️ (0:02:59) 環境設定⌨️ (0:11:04) 取得 ...', 'thumbnails': {'default': {'url': 'https://i.ytimg.com/vi/ximjGyZ93YQ/default.jpg', 'width': 120, 'height': 90}, 'medium': {'url': 'https://i.ytimg.com/vi/ximjGyZ93YQ/mqdefault.jpg', 'width': 320, 'height': 180}, 'high': {'url': 'https://i.ytimg.com/vi/ximjGyZ93YQ/hqdefault.jpg', 'width': 480, 'height': 360}}, 'channelTitle': 'GrandmaCan -我阿嬤都會', 'liveBroadcastContent': 'none', 'publishTime': '2021-07-14T10:05:17Z'}}, {'kind': 'youtube#searchResult', 'etag': '33hegMPf6TCutmcBiUCAH8fmp9U', 'id': {'kind': 'youtube#video', 'videoId': 'HuJV9Vq6snQ'}, 'snippet': {'publishedAt': '2020-12-12T10:00:13Z', 'channelId': 'UCGlgXjYVoHLD86TQQ799WIw', 'title': 'Pythonで面倒なExcelの仕事を自動化しよう 合併版｜2時間で学べます【Pandas入門講座の次におすすめ】', 'description': 'キノコードが作ったプログラミング学習 サービス登場／ 学んだ知識をその場でアウトプットできるからスキルの定着が実感できる ...', 'thumbnails': {'default': {'url': 'https://i.ytimg.com/vi/HuJV9Vq6snQ/default.jpg', 'width': 120, 'height': 90}, 'medium': {'url': 'https://i.ytimg.com/vi/HuJV9Vq6snQ/mqdefault.jpg', 'width': 320, 'height': 180}, 'high': {'url': 'https://i.ytimg.com/vi/HuJV9Vq6snQ/hqdefault.jpg', 'width': 480, 'height': 360}}, 'channelTitle': 'キノコード / プログラミング学習チャンネル', 'liveBroadcastContent': 'none', 'publishTime': '2020-12-12T10:00:13Z'}}, {'kind': 'youtube#searchResult', 'etag': '_C8XBkibve-pG0i5FwrJ3Qf28eU', 'id': {'kind': 'youtube#video', 'videoId': 'JP_ugJny9X4'}, 'snippet': {'publishedAt': '2022-01-15T10:59:11Z', 'channelId': 'UC5Kgc_HNzx4GJ-w4QMeeKiQ', 'title': '【Pythonプログラミング実践編】Excel操作を自動化をしてみよう！〜初心者編〜', 'description': '訂正 14:14の複数戻り値のタイプアノテーションの書き方に誤りがあります。 固定コメントをご確認ください。', 'thumbnails': {'default': {'url': 'https://i.ytimg.com/vi/JP_ugJny9X4/default.jpg', 'width': 120, 'height': 90}, 'medium': {'url': 'https://i.ytimg.com/vi/JP_ugJny9X4/mqdefault.jpg', 'width': 320, 'height': 180}, 'high': {'url': 'https://i.ytimg.com/vi/JP_ugJny9X4/hqdefault.jpg', 'width': 480, 'height': 360}}, 'channelTitle': 'Pythonプログラミング VTuber サプー', 'liveBroadcastContent': 'none', 'publishTime': '2022-01-15T10:59:11Z'}}, {'kind': 'youtube#searchResult', 'etag': 'tu9tiT2FpO40nsqtyCLqjmnxb2o', 'id': {'kind': 'youtube#video', 'videoId': '1OIRwL4zmp0'}, 'snippet': {'publishedAt': '2020-11-16T12:00:11Z', 'channelId': 'UCk-AjDBOodw8P40f0y6EYeA', 'title': '【2022年、 VBA 対 Python】Excel自動化はじめるならどっち？→圧倒的にVBAがおすすめの理由を本の著者が解説', 'description': '【無料特典！】マクロVBAに入門できる100ページ以上の「電子ブック」の無料プレゼントはこちら。 http://bit.ly/vba-ebook ...', 'thumbnails': {'default': {'url': 'https://i.ytimg.com/vi/1OIRwL4zmp0/default.jpg', 'width': 120, 'height': 90}, 'medium': {'url': 'https://i.ytimg.com/vi/1OIRwL4zmp0/mqdefault.jpg', 'width': 320, 'height': 180}, 'high': {'url': 'https://i.ytimg.com/vi/1OIRwL4zmp0/hqdefault.jpg', 'width': 480, 'height': 360}}, 'channelTitle': 'エクセル兄さん たてばやし淳', 'liveBroadcastContent': 'none', 'publishTime': '2020-11-16T12:00:11Z'}}, {'kind': 'youtube#searchResult', 'etag': '2i8fjvnIgM-DROIxMtUvx25zjuc', 'id': {'kind': 'youtube#video', 'videoId': 'tcCS8SbEZyw'}, 'snippet': {'publishedAt': '2023-07-29T10:00:45Z', 'channelId': 'UC1uj19dZQXa17-SqNGpVNLw', 'title': '【完全解説】Pythonを使った自動化例46選【業務効率化できること】', 'description': '無料LINE友だち追加はこちら   https://school.hayatasu.com/line/open/FmSGvQgwE88H?mtid=9tjEolRu46cR ※「アプリで開く」 ...', 'thumbnails': {'default': {'url': 'https://i.ytimg.com/vi/tcCS8SbEZyw/default.jpg', 'width': 120, 'height': 90}, 'medium': {'url': 'https://i.ytimg.com/vi/tcCS8SbEZyw/mqdefault.jpg', 'width': 320, 'height': 180}, 'high': {'url': 'https://i.ytimg.com/vi/tcCS8SbEZyw/hqdefault.jpg', 'width': 480, 'height': 360}}, 'channelTitle': 'はやたす | Python・データサイエンスコーチ', 'liveBroadcastContent': 'none', 'publishTime': '2023-07-29T10:00:45Z'}}, {'kind': 'youtube#searchResult', 'etag': '6zIfpPxTCD7OoFWEC_Yf6B4pdj8', 'id': {'kind': 'youtube#video', 'videoId': 'ehv0aKhfZoY'}, 'snippet': {'publishedAt': '2020-08-28T10:00:31Z', 'channelId': 'UCMMjv61LfBy5J3AT8Ua0NGQ', 'title': '知るだけで周りに差をつけるPythonを使った仕事の自動化アイディア３選', 'description': '動画で学べるプログラミング講座 codefactory ...', 'thumbnails': {'default': {'url': 'https://i.ytimg.com/vi/ehv0aKhfZoY/default.jpg', 'width': 120, 'height': 90}, 'medium': {'url': 'https://i.ytimg.com/vi/ehv0aKhfZoY/mqdefault.jpg', 'width': 320, 'height': 180}, 'high': {'url': 'https://i.ytimg.com/vi/ehv0aKhfZoY/hqdefault.jpg', 'width': 480, 'height': 360}}, 'channelTitle': 'エンジニアチャンネル', 'liveBroadcastContent': 'none', 'publishTime': '2020-08-28T10:00:31Z'}}, {'kind': 'youtube#searchResult', 'etag': 'op9ixkfiHHqcWcRf1VmcRPSUhME', 'id': {'kind': 'youtube#video', 'videoId': 'L26nKhwlePM'}, 'snippet': {'publishedAt': '2023-02-20T13:00:11Z', 'channelId': 'UCuD3lRkYg9h02U5_e9c09Kw', 'title': '用ChatGPT 撰寫操作Excel 的Python 程式，ChatGPT 能夠取代軟體工程師建立自動化系統嗎？', 'description': 'https://youtu.be/1ZDZ0Lng-f8 ▽Python 自動化工作術▽ https://www.codegym.tech/python-automate ▽Code Gym 官網▽ ...', 'thumbnails': {'default': {'url': 'https://i.ytimg.com/vi/L26nKhwlePM/default.jpg', 'width': 120, 'height': 90}, 'medium': {'url': 'https://i.ytimg.com/vi/L26nKhwlePM/mqdefault.jpg', 'width': 320, 'height': 180}, 'high': {'url': 'https://i.ytimg.com/vi/L26nKhwlePM/hqdefault.jpg', 'width': 480, 'height': 360}}, 'channelTitle': 'Code Gym', 'liveBroadcastContent': 'none', 'publishTime': '2023-02-20T13:00:11Z'}}, {'kind': 'youtube#searchResult', 'etag': 'rztWv-0lCoI_0GMQzTlOnh9c3Mw', 'id': {'kind': 'youtube#video', 'videoId': 'zmrbS98KXyo'}, 'snippet': {'publishedAt': '2021-01-20T10:15:02Z', 'channelId': 'UC0xRMqPOyRNPTaL6BxhbCnQ', 'title': '【Python×自動化】PyAutoGUIを用いてPC操作の自動化方法を40分でわかりやすく解説！', 'description': '講座で使用するファイル https://drive.google.com/drive/folders/1kFRnsP-fX6zjDfv2zZcp8XAVgbJ4hG9s?usp=sharing 本動画 ...', 'thumbnails': {'default': {'url': 'https://i.ytimg.com/vi/zmrbS98KXyo/default.jpg', 'width': 120, 'height': 90}, 'medium': {'url': 'https://i.ytimg.com/vi/zmrbS98KXyo/mqdefault.jpg', 'width': 320, 'height': 180}, 'high': {'url': 'https://i.ytimg.com/vi/zmrbS98KXyo/hqdefault.jpg', 'width': 480, 'height': 360}}, 'channelTitle': 'いまにゅのプログラミング塾', 'liveBroadcastContent': 'none', 'publishTime': '2021-01-20T10:15:02Z'}}, {'kind': 'youtube#searchResult', 'etag': 'Uf88dU-pavH9btFSl3w8vCIgjog', 'id': {'kind': 'youtube#video', 'videoId': 'lnTPnx9O6nM'}, 'snippet': {'publishedAt': '2022-07-24T13:36:52Z', 'channelId': 'UCbXgNpp0jedKWcQiULLbDTA', 'title': 'How to find N-Largest and N-Smallest Numbers in Python!', 'description': 'Quick Python tip how to efficiently find the n largest or smallest numbers of a List. A note from the official docs: \"The latter two ...', 'thumbnails': {'default': {'url': 'https://i.ytimg.com/vi/lnTPnx9O6nM/default.jpg', 'width': 120, 'height': 90}, 'medium': {'url': 'https://i.ytimg.com/vi/lnTPnx9O6nM/mqdefault.jpg', 'width': 320, 'height': 180}, 'high': {'url': 'https://i.ytimg.com/vi/lnTPnx9O6nM/hqdefault.jpg', 'width': 480, 'height': 360}}, 'channelTitle': 'Patrick Loeber', 'liveBroadcastContent': 'none', 'publishTime': '2022-07-24T13:36:52Z'}}, {'kind': 'youtube#searchResult', 'etag': 'Q8FoXhpSDkXIlRZ0-Jol_b1Dmd4', 'id': {'kind': 'youtube#video', 'videoId': 'ANoxy74O_VE'}, 'snippet': {'publishedAt': '2021-09-19T10:37:44Z', 'channelId': 'UCGlgXjYVoHLD86TQQ799WIw', 'title': 'PythonでWebスクレイピイング｜たった2時間で自動ログインやデータ取得、画像保存まで学べます【プログラミング初心者でもできる】', 'description': 'キノコードが作ったプログラミング学習 サービス登場／ 学んだ知識をその場でアウトプットできるからスキルの定着が実感できる ...', 'thumbnails': {'default': {'url': 'https://i.ytimg.com/vi/ANoxy74O_VE/default.jpg', 'width': 120, 'height': 90}, 'medium': {'url': 'https://i.ytimg.com/vi/ANoxy74O_VE/mqdefault.jpg', 'width': 320, 'height': 180}, 'high': {'url': 'https://i.ytimg.com/vi/ANoxy74O_VE/hqdefault.jpg', 'width': 480, 'height': 360}}, 'channelTitle': 'キノコード / プログラミング学習チャンネル', 'liveBroadcastContent': 'none', 'publishTime': '2021-09-19T10:37:44Z'}}, {'kind': 'youtube#searchResult', 'etag': 'LPLafXIddCKqAuRXs_UAO0mX7B8', 'id': {'kind': 'youtube#video', 'videoId': 'f8FXUUQ4uRA'}, 'snippet': {'publishedAt': '2020-10-17T10:00:08Z', 'channelId': 'UC0xRMqPOyRNPTaL6BxhbCnQ', 'title': '【PythonによるWebスクレイピング入門】vol.01：ログインなどのブラウザ操作を自動化しよう（Selenium）', 'description': 'みなさんお待ちかねのPythonによるWebスクレイピング入門第一弾です！ Pythonを学び始めた方の多くが、今回お伝え ...', 'thumbnails': {'default': {'url': 'https://i.ytimg.com/vi/f8FXUUQ4uRA/default.jpg', 'width': 120, 'height': 90}, 'medium': {'url': 'https://i.ytimg.com/vi/f8FXUUQ4uRA/mqdefault.jpg', 'width': 320, 'height': 180}, 'high': {'url': 'https://i.ytimg.com/vi/f8FXUUQ4uRA/hqdefault.jpg', 'width': 480, 'height': 360}}, 'channelTitle': 'いまにゅのプログラミング塾', 'liveBroadcastContent': 'none', 'publishTime': '2020-10-17T10:00:08Z'}}, {'kind': 'youtube#searchResult', 'etag': 'i4mwvhjiSkc0H74H7K4lY5VTPWc', 'id': {'kind': 'youtube#video', 'videoId': 'Fef4GAYq9VA'}, 'snippet': {'publishedAt': '2021-02-17T10:00:05Z', 'channelId': 'UC0xRMqPOyRNPTaL6BxhbCnQ', 'title': '【超本格的】Pythonで業務自動化を学びたい人がまず見るべき動画｜定期実行の仕組み構築までをわかりやすく解説', 'description': '講義で使用するファイル https://drive.google.com/drive/folders/1ZON93GMvO1EoLWK6l5GtYqO2I6_4PmXq?usp=sharing 本動画 ...', 'thumbnails': {'default': {'url': 'https://i.ytimg.com/vi/Fef4GAYq9VA/default.jpg', 'width': 120, 'height': 90}, 'medium': {'url': 'https://i.ytimg.com/vi/Fef4GAYq9VA/mqdefault.jpg', 'width': 320, 'height': 180}, 'high': {'url': 'https://i.ytimg.com/vi/Fef4GAYq9VA/hqdefault.jpg', 'width': 480, 'height': 360}}, 'channelTitle': 'いまにゅのプログラミング塾', 'liveBroadcastContent': 'none', 'publishTime': '2021-02-17T10:00:05Z'}}, {'kind': 'youtube#searchResult', 'etag': '0c96yye2qWpYszUAMwoqQ7h0wfQ', 'id': {'kind': 'youtube#video', 'videoId': '2nDkNHeCKs4'}, 'snippet': {'publishedAt': '2020-09-04T10:00:01Z', 'channelId': 'UCMMjv61LfBy5J3AT8Ua0NGQ', 'title': 'プログラミングでYouTube動画の編集作業を自動化する', 'description': '動画で学べるプログラミング講座 codefactory ...', 'thumbnails': {'default': {'url': 'https://i.ytimg.com/vi/2nDkNHeCKs4/default.jpg', 'width': 120, 'height': 90}, 'medium': {'url': 'https://i.ytimg.com/vi/2nDkNHeCKs4/mqdefault.jpg', 'width': 320, 'height': 180}, 'high': {'url': 'https://i.ytimg.com/vi/2nDkNHeCKs4/hqdefault.jpg', 'width': 480, 'height': 360}}, 'channelTitle': 'エンジニアチャンネル', 'liveBroadcastContent': 'none', 'publishTime': '2020-09-04T10:00:01Z'}}, {'kind': 'youtube#searchResult', 'etag': 'YMIpM5YrcxYovy_gYG6jGuKM_FI', 'id': {'kind': 'youtube#video', 'videoId': 'fyNCftVsp4g'}, 'snippet': {'publishedAt': '2021-01-16T10:00:10Z', 'channelId': 'UCGlgXjYVoHLD86TQQ799WIw', 'title': '【Pythonで面倒な仕事を自動化しよう 合併版】8つの自動化のテクニックを紹介', 'description': 'キノコードが作ったプログラミング学習 サービス登場／ 学んだ知識をその場でアウトプットできるからスキルの定着が実感できる ...', 'thumbnails': {'default': {'url': 'https://i.ytimg.com/vi/fyNCftVsp4g/default.jpg', 'width': 120, 'height': 90}, 'medium': {'url': 'https://i.ytimg.com/vi/fyNCftVsp4g/mqdefault.jpg', 'width': 320, 'height': 180}, 'high': {'url': 'https://i.ytimg.com/vi/fyNCftVsp4g/hqdefault.jpg', 'width': 480, 'height': 360}}, 'channelTitle': 'キノコード / プログラミング学習チャンネル', 'liveBroadcastContent': 'none', 'publishTime': '2021-01-16T10:00:10Z'}}, {'kind': 'youtube#searchResult', 'etag': 'jDKqHK63DVyDXMNbpgSRXfsZlcY', 'id': {'kind': 'youtube#video', 'videoId': 'SPf_nINsCfw'}, 'snippet': {'publishedAt': '2021-01-24T08:06:44Z', 'channelId': 'UCGFxqqRaM97VjM5ToRfkoFg', 'title': 'Pythonで仕事を楽にしたいならこの本で決定【Excel,Outlook】', 'description': 'Python初心者でもこの本を読めば軽い自動化ができるようになるので、 業務効率化に悩むサラリーマンの入門にオススメな本です ...', 'thumbnails': {'default': {'url': 'https://i.ytimg.com/vi/SPf_nINsCfw/default.jpg', 'width': 120, 'height': 90}, 'medium': {'url': 'https://i.ytimg.com/vi/SPf_nINsCfw/mqdefault.jpg', 'width': 320, 'height': 180}, 'high': {'url': 'https://i.ytimg.com/vi/SPf_nINsCfw/hqdefault.jpg', 'width': 480, 'height': 360}}, 'channelTitle': '独学クソリーマンの逆襲', 'liveBroadcastContent': 'none', 'publishTime': '2021-01-24T08:06:44Z'}}, {'kind': 'youtube#searchResult', 'etag': 'IV_GtUjnShX5K5F5LiNBLXKvnXU', 'id': {'kind': 'youtube#video', 'videoId': 'NvdAR1BFu30'}, 'snippet': {'publishedAt': '2021-01-06T10:15:00Z', 'channelId': 'UC0xRMqPOyRNPTaL6BxhbCnQ', 'title': '【Python自動集約】PythonでExcel業務を自動化！（第1弾）複数の請求書Excelファイルを集約', 'description': '講義使用ファイル https://drive.google.com/drive/folders/1x82U4-7KaNIIDNh-3e5qN0CQ1Anl1Xhu?usp=sharing 本動画 ...', 'thumbnails': {'default': {'url': 'https://i.ytimg.com/vi/NvdAR1BFu30/default.jpg', 'width': 120, 'height': 90}, 'medium': {'url': 'https://i.ytimg.com/vi/NvdAR1BFu30/mqdefault.jpg', 'width': 320, 'height': 180}, 'high': {'url': 'https://i.ytimg.com/vi/NvdAR1BFu30/hqdefault.jpg', 'width': 480, 'height': 360}}, 'channelTitle': 'いまにゅのプログラミング塾', 'liveBroadcastContent': 'none', 'publishTime': '2021-01-06T10:15:00Z'}}, {'kind': 'youtube#searchResult', 'etag': 'Gxfd9g_Okm2PtsPtP11cmyUWVkk', 'id': {'kind': 'youtube#video', 'videoId': 'FuCJd0ftVsU'}, 'snippet': {'publishedAt': '2020-12-03T11:00:13Z', 'channelId': 'UCGlgXjYVoHLD86TQQ799WIw', 'title': '【仕事の自動化】PythonでLINEを操作。メッセージや画像を自分へ送信しよう！【初心者の方もわかりやすいように解説】', 'description': 'キノコードが作ったプログラミング学習 サービス登場／ 学んだ知識をその場でアウトプットできるからスキルの定着が実感できる ...', 'thumbnails': {'default': {'url': 'https://i.ytimg.com/vi/FuCJd0ftVsU/default.jpg', 'width': 120, 'height': 90}, 'medium': {'url': 'https://i.ytimg.com/vi/FuCJd0ftVsU/mqdefault.jpg', 'width': 320, 'height': 180}, 'high': {'url': 'https://i.ytimg.com/vi/FuCJd0ftVsU/hqdefault.jpg', 'width': 480, 'height': 360}}, 'channelTitle': 'キノコード / プログラミング学習チャンネル', 'liveBroadcastContent': 'none', 'publishTime': '2020-12-03T11:00:13Z'}}, {'kind': 'youtube#searchResult', 'etag': '6iNVO-eJ5Vm7f5ceF6tEn3QXoaQ', 'id': {'kind': 'youtube#video', 'videoId': 'nfOeBBotc2k'}, 'snippet': {'publishedAt': '2020-06-04T09:55:42Z', 'channelId': 'UCGlgXjYVoHLD86TQQ799WIw', 'title': 'Pythonで面倒なExcelの仕事を自動化しよう( 第二弾 )｜ExcelとPythonでのやり方を比較しながらわかりやすく解説', 'description': 'この動画では、「Pythonでのやり方」と「Excelの関数、機能、グラフ作成」を比較しながら学んでいきます。 ▽目次 00:00 ...', 'thumbnails': {'default': {'url': 'https://i.ytimg.com/vi/nfOeBBotc2k/default.jpg', 'width': 120, 'height': 90}, 'medium': {'url': 'https://i.ytimg.com/vi/nfOeBBotc2k/mqdefault.jpg', 'width': 320, 'height': 180}, 'high': {'url': 'https://i.ytimg.com/vi/nfOeBBotc2k/hqdefault.jpg', 'width': 480, 'height': 360}}, 'channelTitle': 'キノコード / プログラミング学習チャンネル', 'liveBroadcastContent': 'none', 'publishTime': '2020-06-04T09:55:42Z'}}, {'kind': 'youtube#searchResult', 'etag': '_IBu-JVaZMeV57yjdoEa2PAls60', 'id': {'kind': 'youtube#video', 'videoId': 'Eu3CojjLQL4'}, 'snippet': {'publishedAt': '2021-09-11T08:58:17Z', 'channelId': 'UC5Kgc_HNzx4GJ-w4QMeeKiQ', 'title': '【PythonでWebスクレイピング】Seleniumの使い方解説！ Web操作自動化もできる！〜 初心者向け 〜 プログラミング入門', 'description': '最新バージョンのSeleniumでは「find_element_by_○○○」が動きません。「find_element(By.○○○, 名前)」をご使用ください ...', 'thumbnails': {'default': {'url': 'https://i.ytimg.com/vi/Eu3CojjLQL4/default.jpg', 'width': 120, 'height': 90}, 'medium': {'url': 'https://i.ytimg.com/vi/Eu3CojjLQL4/mqdefault.jpg', 'width': 320, 'height': 180}, 'high': {'url': 'https://i.ytimg.com/vi/Eu3CojjLQL4/hqdefault.jpg', 'width': 480, 'height': 360}}, 'channelTitle': 'Pythonプログラミング VTuber サプー', 'liveBroadcastContent': 'none', 'publishTime': '2021-09-11T08:58:17Z'}}]}\n"
     ]
    }
   ],
   "source": [
    "# -*- coding: utf-8 -*-\n",
    "import os\n",
    "\n",
    "# import google_auth_oauthlib.flow\n",
    "import googleapiclient.discovery\n",
    "from googleapiclient.discovery import build\n",
    "#import googleapiclient.errors\n",
    "import json\n",
    "with open('../../youtube_data_api_secret.json') as f:\n",
    "    secret = json.load(f)\n",
    "\n",
    "api_service_name = \"youtube\"\n",
    "api_version = \"v3\"\n",
    "DEVELOPER_KEY = secret['KEY']\n",
    "\n",
    "youtube = build(\n",
    "    api_service_name, api_version, developerKey=DEVELOPER_KEY)\n",
    "\n",
    "q = 'Python 自動化'\n",
    "max_results = 30\n",
    "\n",
    "response = youtube.search().list(\n",
    "    part='id,snippet',\n",
    "    order='viewCount',\n",
    "    type='video',\n",
    "    q=q,\n",
    "    maxResults=max_results\n",
    ").execute()\n",
    "\n",
    "print(response)\n"
   ]
  },
  {
   "cell_type": "code",
   "execution_count": 13,
   "metadata": {},
   "outputs": [
    {
     "data": {
      "text/plain": [
       "{'kind': 'youtube#searchResult',\n",
       " 'etag': 'qouBI5DZWIyK0GUF_HY9Bc7QMek',\n",
       " 'id': {'kind': 'youtube#video', 'videoId': 'pDWgh-EpYck'},\n",
       " 'snippet': {'publishedAt': '2020-12-02T14:05:55Z',\n",
       "  'channelId': 'UCMMjv61LfBy5J3AT8Ua0NGQ',\n",
       "  'title': '一般人とプログラマーの違い',\n",
       "  'description': 'チャンネル登録はこちら   http://www.youtube.com/channel/UCMMjv61LfBy5J3AT8Ua0NGQ?sub_confirmation=1 ...',\n",
       "  'thumbnails': {'default': {'url': 'https://i.ytimg.com/vi/pDWgh-EpYck/default.jpg',\n",
       "    'width': 120,\n",
       "    'height': 90},\n",
       "   'medium': {'url': 'https://i.ytimg.com/vi/pDWgh-EpYck/mqdefault.jpg',\n",
       "    'width': 320,\n",
       "    'height': 180},\n",
       "   'high': {'url': 'https://i.ytimg.com/vi/pDWgh-EpYck/hqdefault.jpg',\n",
       "    'width': 480,\n",
       "    'height': 360}},\n",
       "  'channelTitle': 'エンジニアチャンネル',\n",
       "  'liveBroadcastContent': 'none',\n",
       "  'publishTime': '2020-12-02T14:05:55Z'}}"
      ]
     },
     "execution_count": 13,
     "metadata": {},
     "output_type": "execute_result"
    }
   ],
   "source": [
    "items = response['items']\n",
    "item = items[0]\n",
    "item"
   ]
  },
  {
   "cell_type": "code",
   "execution_count": 14,
   "metadata": {},
   "outputs": [],
   "source": [
    "video_id = item['id']['videoId']"
   ]
  },
  {
   "cell_type": "code",
   "execution_count": 15,
   "metadata": {},
   "outputs": [],
   "source": [
    "channel_id = item['snippet']['channelId']"
   ]
  },
  {
   "cell_type": "code",
   "execution_count": 16,
   "metadata": {},
   "outputs": [],
   "source": [
    "import pandas as pd\n"
   ]
  },
  {
   "cell_type": "code",
   "execution_count": 17,
   "metadata": {},
   "outputs": [
    {
     "data": {
      "text/html": [
       "<div>\n",
       "<style scoped>\n",
       "    .dataframe tbody tr th:only-of-type {\n",
       "        vertical-align: middle;\n",
       "    }\n",
       "\n",
       "    .dataframe tbody tr th {\n",
       "        vertical-align: top;\n",
       "    }\n",
       "\n",
       "    .dataframe thead th {\n",
       "        text-align: right;\n",
       "    }\n",
       "</style>\n",
       "<table border=\"1\" class=\"dataframe\">\n",
       "  <thead>\n",
       "    <tr style=\"text-align: right;\">\n",
       "      <th></th>\n",
       "      <th>video_id</th>\n",
       "      <th>channel_id</th>\n",
       "    </tr>\n",
       "  </thead>\n",
       "  <tbody>\n",
       "    <tr>\n",
       "      <th>0</th>\n",
       "      <td>pDWgh-EpYck</td>\n",
       "      <td>UCMMjv61LfBy5J3AT8Ua0NGQ</td>\n",
       "    </tr>\n",
       "    <tr>\n",
       "      <th>1</th>\n",
       "      <td>vEQ8CXFWLZU</td>\n",
       "      <td>UCcJQ96WlEhJ0Ve0SLmU310Q</td>\n",
       "    </tr>\n",
       "    <tr>\n",
       "      <th>2</th>\n",
       "      <td>PXMJ6FS7llk</td>\n",
       "      <td>UC8butISFwT-Wl7EV0hUK0BQ</td>\n",
       "    </tr>\n",
       "  </tbody>\n",
       "</table>\n",
       "</div>"
      ],
      "text/plain": [
       "      video_id                channel_id\n",
       "0  pDWgh-EpYck  UCMMjv61LfBy5J3AT8Ua0NGQ\n",
       "1  vEQ8CXFWLZU  UCcJQ96WlEhJ0Ve0SLmU310Q\n",
       "2  PXMJ6FS7llk  UC8butISFwT-Wl7EV0hUK0BQ"
      ]
     },
     "execution_count": 17,
     "metadata": {},
     "output_type": "execute_result"
    }
   ],
   "source": [
    "items_id = []\n",
    "items = response['items']\n",
    "for item in items:\n",
    "    item_id = {}\n",
    "    item_id['video_id'] = item['id']['videoId']\n",
    "    item_id['channel_id'] = item['snippet']['channelId']\n",
    "    items_id.append(item_id)\n",
    "\n",
    "df_video = pd.DataFrame(items_id)\n",
    "df_video[:3]"
   ]
  },
  {
   "cell_type": "code",
   "execution_count": 18,
   "metadata": {},
   "outputs": [],
   "source": [
    "import os\n",
    "\n",
    "from googleapiclient.discovery import build\n",
    "import json\n",
    "with open('../../youtube_data_api_secret.json') as f:\n",
    "    secret = json.load(f)\n",
    "\n",
    "def video_search(youtube, q='自動化', max_results=50):\n",
    "\n",
    "    response = youtube.search().list(\n",
    "        part='id,snippet',\n",
    "        order='viewCount',\n",
    "        type='video',\n",
    "        q=q,\n",
    "        maxResults=max_results\n",
    "    ).execute()\n",
    "\n",
    "    items_id = []\n",
    "    items = response['items']\n",
    "    for item in items:\n",
    "        item_id = {}\n",
    "        item_id['video_id'] = item['id']['videoId']\n",
    "        item_id['channel_id'] = item['snippet']['channelId']\n",
    "        items_id.append(item_id)\n",
    "\n",
    "    df_video = pd.DataFrame(items_id)\n",
    "    return df_video\n"
   ]
  },
  {
   "cell_type": "code",
   "execution_count": 19,
   "metadata": {},
   "outputs": [],
   "source": [
    "pi_service_name = \"youtube\"\n",
    "api_version = \"v3\"\n",
    "DEVELOPER_KEY = secret['KEY']\n",
    "\n",
    "youtube = build(\n",
    "    api_service_name, api_version, developerKey=DEVELOPER_KEY)\n",
    "\n",
    "df_video = video_search(youtube, q='Python 自動化', max_results=50)\n",
    "\n"
   ]
  },
  {
   "cell_type": "code",
   "execution_count": 20,
   "metadata": {},
   "outputs": [
    {
     "data": {
      "text/plain": [
       "['UCMMjv61LfBy5J3AT8Ua0NGQ',\n",
       " 'UCcJQ96WlEhJ0Ve0SLmU310Q',\n",
       " 'UC0xRMqPOyRNPTaL6BxhbCnQ']"
      ]
     },
     "execution_count": 20,
     "metadata": {},
     "output_type": "execute_result"
    }
   ],
   "source": [
    "channel_ids = df_video['channel_id'].unique().tolist()\n",
    "channel_ids[:3]"
   ]
  },
  {
   "cell_type": "code",
   "execution_count": 21,
   "metadata": {},
   "outputs": [],
   "source": [
    "subscriber_list = youtube.channels().list(\n",
    "    id=','.join(channel_ids),\n",
    "    part='statistics',\n",
    "    fields='items(id,statistics(subscriberCount))'\n",
    ").execute()"
   ]
  },
  {
   "cell_type": "code",
   "execution_count": 22,
   "metadata": {},
   "outputs": [
    {
     "data": {
      "text/plain": [
       "[{'id': 'UCTrAO0TDCldnYUN3BkLmGcw',\n",
       "  'statistics': {'subscriberCount': '251000'}},\n",
       " {'id': 'UCMMjv61LfBy5J3AT8Ua0NGQ',\n",
       "  'statistics': {'subscriberCount': '140000'}},\n",
       " {'id': 'UC5Kgc_HNzx4GJ-w4QMeeKiQ',\n",
       "  'statistics': {'subscriberCount': '82700'}},\n",
       " {'id': 'UCAnUUkliBXa1z4QPGUK3ikQ',\n",
       "  'statistics': {'subscriberCount': '152000'}},\n",
       " {'id': 'UCbXgNpp0jedKWcQiULLbDTA',\n",
       "  'statistics': {'subscriberCount': '269000'}}]"
      ]
     },
     "execution_count": 22,
     "metadata": {},
     "output_type": "execute_result"
    }
   ],
   "source": [
    "subscriber_list['items'][:5]"
   ]
  },
  {
   "cell_type": "code",
   "execution_count": 23,
   "metadata": {},
   "outputs": [],
   "source": [
    "subscribers = []\n",
    "for item in subscriber_list['items']:\n",
    "    subscriber = {}\n",
    "    subscriber['channel_id'] = item['id']\n",
    "    subscriber['subscriber_count'] = int(item['statistics']['subscriberCount'])\n",
    "    subscribers.append(subscriber)\n",
    "\n",
    "df_subscribers = pd.DataFrame(subscribers)"
   ]
  },
  {
   "cell_type": "code",
   "execution_count": 24,
   "metadata": {},
   "outputs": [
    {
     "data": {
      "text/html": [
       "<div>\n",
       "<style scoped>\n",
       "    .dataframe tbody tr th:only-of-type {\n",
       "        vertical-align: middle;\n",
       "    }\n",
       "\n",
       "    .dataframe tbody tr th {\n",
       "        vertical-align: top;\n",
       "    }\n",
       "\n",
       "    .dataframe thead th {\n",
       "        text-align: right;\n",
       "    }\n",
       "</style>\n",
       "<table border=\"1\" class=\"dataframe\">\n",
       "  <thead>\n",
       "    <tr style=\"text-align: right;\">\n",
       "      <th></th>\n",
       "      <th>channel_id</th>\n",
       "      <th>subscriber_count</th>\n",
       "    </tr>\n",
       "  </thead>\n",
       "  <tbody>\n",
       "    <tr>\n",
       "      <th>0</th>\n",
       "      <td>UCTrAO0TDCldnYUN3BkLmGcw</td>\n",
       "      <td>251000</td>\n",
       "    </tr>\n",
       "    <tr>\n",
       "      <th>1</th>\n",
       "      <td>UCMMjv61LfBy5J3AT8Ua0NGQ</td>\n",
       "      <td>140000</td>\n",
       "    </tr>\n",
       "    <tr>\n",
       "      <th>2</th>\n",
       "      <td>UC5Kgc_HNzx4GJ-w4QMeeKiQ</td>\n",
       "      <td>82700</td>\n",
       "    </tr>\n",
       "  </tbody>\n",
       "</table>\n",
       "</div>"
      ],
      "text/plain": [
       "                 channel_id  subscriber_count\n",
       "0  UCTrAO0TDCldnYUN3BkLmGcw            251000\n",
       "1  UCMMjv61LfBy5J3AT8Ua0NGQ            140000\n",
       "2  UC5Kgc_HNzx4GJ-w4QMeeKiQ             82700"
      ]
     },
     "execution_count": 24,
     "metadata": {},
     "output_type": "execute_result"
    }
   ],
   "source": [
    "df_subscribers[:3]"
   ]
  },
  {
   "cell_type": "code",
   "execution_count": 25,
   "metadata": {},
   "outputs": [
    {
     "data": {
      "text/html": [
       "<div>\n",
       "<style scoped>\n",
       "    .dataframe tbody tr th:only-of-type {\n",
       "        vertical-align: middle;\n",
       "    }\n",
       "\n",
       "    .dataframe tbody tr th {\n",
       "        vertical-align: top;\n",
       "    }\n",
       "\n",
       "    .dataframe thead th {\n",
       "        text-align: right;\n",
       "    }\n",
       "</style>\n",
       "<table border=\"1\" class=\"dataframe\">\n",
       "  <thead>\n",
       "    <tr style=\"text-align: right;\">\n",
       "      <th></th>\n",
       "      <th>video_id</th>\n",
       "      <th>channel_id</th>\n",
       "    </tr>\n",
       "  </thead>\n",
       "  <tbody>\n",
       "    <tr>\n",
       "      <th>0</th>\n",
       "      <td>pDWgh-EpYck</td>\n",
       "      <td>UCMMjv61LfBy5J3AT8Ua0NGQ</td>\n",
       "    </tr>\n",
       "    <tr>\n",
       "      <th>1</th>\n",
       "      <td>vEQ8CXFWLZU</td>\n",
       "      <td>UCcJQ96WlEhJ0Ve0SLmU310Q</td>\n",
       "    </tr>\n",
       "    <tr>\n",
       "      <th>2</th>\n",
       "      <td>bsq2YY-XAEo</td>\n",
       "      <td>UC0xRMqPOyRNPTaL6BxhbCnQ</td>\n",
       "    </tr>\n",
       "  </tbody>\n",
       "</table>\n",
       "</div>"
      ],
      "text/plain": [
       "      video_id                channel_id\n",
       "0  pDWgh-EpYck  UCMMjv61LfBy5J3AT8Ua0NGQ\n",
       "1  vEQ8CXFWLZU  UCcJQ96WlEhJ0Ve0SLmU310Q\n",
       "2  bsq2YY-XAEo  UC0xRMqPOyRNPTaL6BxhbCnQ"
      ]
     },
     "execution_count": 25,
     "metadata": {},
     "output_type": "execute_result"
    }
   ],
   "source": [
    "df_video[:3]"
   ]
  },
  {
   "cell_type": "code",
   "execution_count": 26,
   "metadata": {},
   "outputs": [
    {
     "data": {
      "text/html": [
       "<div>\n",
       "<style scoped>\n",
       "    .dataframe tbody tr th:only-of-type {\n",
       "        vertical-align: middle;\n",
       "    }\n",
       "\n",
       "    .dataframe tbody tr th {\n",
       "        vertical-align: top;\n",
       "    }\n",
       "\n",
       "    .dataframe thead th {\n",
       "        text-align: right;\n",
       "    }\n",
       "</style>\n",
       "<table border=\"1\" class=\"dataframe\">\n",
       "  <thead>\n",
       "    <tr style=\"text-align: right;\">\n",
       "      <th></th>\n",
       "      <th>video_id</th>\n",
       "      <th>channel_id</th>\n",
       "      <th>subscriber_count</th>\n",
       "    </tr>\n",
       "  </thead>\n",
       "  <tbody>\n",
       "    <tr>\n",
       "      <th>0</th>\n",
       "      <td>pDWgh-EpYck</td>\n",
       "      <td>UCMMjv61LfBy5J3AT8Ua0NGQ</td>\n",
       "      <td>140000</td>\n",
       "    </tr>\n",
       "    <tr>\n",
       "      <th>1</th>\n",
       "      <td>vEQ8CXFWLZU</td>\n",
       "      <td>UCcJQ96WlEhJ0Ve0SLmU310Q</td>\n",
       "      <td>334000</td>\n",
       "    </tr>\n",
       "    <tr>\n",
       "      <th>2</th>\n",
       "      <td>bsq2YY-XAEo</td>\n",
       "      <td>UC0xRMqPOyRNPTaL6BxhbCnQ</td>\n",
       "      <td>155000</td>\n",
       "    </tr>\n",
       "  </tbody>\n",
       "</table>\n",
       "</div>"
      ],
      "text/plain": [
       "      video_id                channel_id  subscriber_count\n",
       "0  pDWgh-EpYck  UCMMjv61LfBy5J3AT8Ua0NGQ            140000\n",
       "1  vEQ8CXFWLZU  UCcJQ96WlEhJ0Ve0SLmU310Q            334000\n",
       "2  bsq2YY-XAEo  UC0xRMqPOyRNPTaL6BxhbCnQ            155000"
      ]
     },
     "execution_count": 26,
     "metadata": {},
     "output_type": "execute_result"
    }
   ],
   "source": [
    "df = pd.merge(left=df_video, right=df_subscribers, on='channel_id')\n",
    "df.head(3)"
   ]
  },
  {
   "cell_type": "code",
   "execution_count": 27,
   "metadata": {},
   "outputs": [],
   "source": [
    "df_extracted = df[df['subscriber_count'] < 10000]"
   ]
  },
  {
   "cell_type": "code",
   "execution_count": 28,
   "metadata": {},
   "outputs": [],
   "source": [
    "video_ids = df_extracted['video_id'].tolist()"
   ]
  },
  {
   "cell_type": "code",
   "execution_count": 29,
   "metadata": {},
   "outputs": [],
   "source": [
    "videos_list = youtube.videos().list(\n",
    "    id=','.join(video_ids),\n",
    "    part='snippet,statistics',\n",
    "    fields='items(id,snippet(title),statistics(viewCount))'\n",
    ").execute()\n"
   ]
  },
  {
   "cell_type": "code",
   "execution_count": null,
   "metadata": {},
   "outputs": [],
   "source": []
  },
  {
   "cell_type": "code",
   "execution_count": 31,
   "metadata": {},
   "outputs": [],
   "source": [
    "videos_info = []\n",
    "items = videos_list['items']\n",
    "for item in items:\n",
    "    video_info = {}\n",
    "    video_info['video_id'] = item['id']\n",
    "    video_info['title'] = item['snippet']['title']\n",
    "    video_info['view_count'] = item['statistics']['viewCount']\n",
    "    videos_info.append(video_info)\n",
    "\n",
    "df_videos_info = pd.DataFrame(videos_info)"
   ]
  },
  {
   "cell_type": "code",
   "execution_count": null,
   "metadata": {},
   "outputs": [],
   "source": []
  },
  {
   "cell_type": "code",
   "execution_count": null,
   "metadata": {},
   "outputs": [],
   "source": []
  },
  {
   "cell_type": "code",
   "execution_count": 73,
   "metadata": {},
   "outputs": [],
   "source": [
    "results = pd.merge(left=df_extracted, right=df_videos_info, on='video_id')"
   ]
  },
  {
   "cell_type": "code",
   "execution_count": 35,
   "metadata": {},
   "outputs": [],
   "source": [
    "results = results.loc[:,['video_id', 'title', 'view_count', 'subscriber_count', 'channel_id']]"
   ]
  },
  {
   "cell_type": "code",
   "execution_count": null,
   "metadata": {},
   "outputs": [],
   "source": []
  },
  {
   "cell_type": "code",
   "execution_count": 37,
   "metadata": {},
   "outputs": [],
   "source": [
    "df_video = video_search(youtube, q='Python 自動化', max_results=50)\n",
    "\n",
    "def get_results(df_video, threshold=5000):\n",
    "\n",
    "    channel_ids = df_video['channel_id'].unique().tolist()\n",
    "\n",
    "    subscriber_list = youtube.channels().list(\n",
    "        id=','.join(channel_ids),\n",
    "        part='statistics',\n",
    "        fields='items(id,statistics(subscriberCount))'\n",
    "    ).execute()\n",
    "\n",
    "    subscribers = []\n",
    "    for item in subscriber_list['items']:\n",
    "        subscriber = {}\n",
    "        subscriber['channel_id'] = item['id']\n",
    "        subscriber['subscriber_count'] = int(item['statistics']['subscriberCount'])\n",
    "        subscribers.append(subscriber)\n",
    "\n",
    "    df_subscribers = pd.DataFrame(subscribers)\n",
    "\n",
    "    df = pd.merge(left=df_video, right=df_subscribers, on='channel_id')\n",
    "\n",
    "    df_extracted = df[df['subscriber_count'] < threshold]\n",
    "\n",
    "    video_ids = df_extracted['video_id'].tolist()\n",
    "\n",
    "    videos_list = youtube.videos().list(\n",
    "        id=','.join(video_ids),\n",
    "        part='snippet,statistics',\n",
    "        fields='items(id,snippet(title),statistics(viewCount))'\n",
    "    ).execute()\n",
    "\n",
    "    videos_info = []\n",
    "    items = videos_list['items']\n",
    "    for item in items:\n",
    "        video_info = {}\n",
    "        video_info['video_id'] = item['id']\n",
    "        video_info['title'] = item['snippet']['title']\n",
    "        video_info['view_count'] = item['statistics']['viewCount']\n",
    "        videos_info.append(video_info)\n",
    "\n",
    "    df_videos_info = pd.DataFrame(videos_info)\n",
    "\n",
    "    results = pd.merge(left=df_extracted, right=df_videos_info, on='video_id')\n",
    "\n",
    "    results = results.loc[:,['video_id', 'title', 'view_count', 'subscriber_count', 'channel_id']]"
   ]
  },
  {
   "cell_type": "code",
   "execution_count": null,
   "metadata": {},
   "outputs": [],
   "source": []
  },
  {
   "cell_type": "code",
   "execution_count": 69,
   "metadata": {},
   "outputs": [],
   "source": [
    "df_video = video_search(youtube, q='Python 自動化', max_results=50)\n",
    "\n",
    "def get_results(df_video, threshold=5000):\n",
    "\n",
    "    channel_ids = df_video['channel_id'].unique().tolist()\n",
    "\n",
    "    subscriber_list = youtube.channels().list(\n",
    "        id=','.join(channel_ids),\n",
    "        part='statistics',\n",
    "        fields='items(id,statistics(subscriberCount))'\n",
    "    ).execute()\n",
    "\n",
    "    subscribers = []\n",
    "    for item in subscriber_list['items']:\n",
    "        subscriber = {}\n",
    "        if len(item['statistics']) == 0:\n",
    "            continue\n",
    "        subscriber['channel_id'] = item['id']\n",
    "        subscriber['subscriber_count'] = int(item['statistics']['subscriberCount'])\n",
    "        subscribers.append(subscriber)\n",
    "\n",
    "    df_subscribers = pd.DataFrame(subscribers)\n",
    "    df = pd.merge(left=df_video, right=df_subscribers, on='channel_id')\n",
    "\n",
    "    df_extracted = df[df['subscriber_count'] < threshold]\n",
    "\n",
    "    video_ids = df_extracted['video_id'].tolist()\n",
    "\n",
    "    videos_list = youtube.videos().list(\n",
    "        id=','.join(video_ids),\n",
    "        part='snippet,statistics',\n",
    "        fields='items(id,snippet(title),statistics(viewCount))'\n",
    "    ).execute()\n",
    "\n",
    "    videos_info = []\n",
    "    items = videos_list['items']\n",
    "    for item in items:\n",
    "        video_info = {}\n",
    "        video_info['video_id'] = item['id']\n",
    "        video_info['title'] = item['snippet']['title']\n",
    "        video_info['view_count'] = item['statistics']['viewCount']\n",
    "        videos_info.append(video_info)\n",
    "    if not videos_info:\n",
    "        print('no detect')\n",
    "        return None\n",
    "\n",
    "    df_videos_info = pd.DataFrame(videos_info)\n",
    "    results = pd.merge(left=df_extracted, right=df_videos_info, on='video_id')\n",
    "\n",
    "    results = results.loc[:,['video_id', 'title', 'view_count', 'subscriber_count', 'channel_id']]\n",
    "    return results"
   ]
  },
  {
   "cell_type": "code",
   "execution_count": 71,
   "metadata": {},
   "outputs": [],
   "source": [
    "df_video = video_search(youtube, q='Python 自動化', max_results=50)\n",
    "results = get_results(df_video, threshold=10000)"
   ]
  },
  {
   "cell_type": "code",
   "execution_count": 72,
   "metadata": {},
   "outputs": [
    {
     "data": {
      "text/html": [
       "<div>\n",
       "<style scoped>\n",
       "    .dataframe tbody tr th:only-of-type {\n",
       "        vertical-align: middle;\n",
       "    }\n",
       "\n",
       "    .dataframe tbody tr th {\n",
       "        vertical-align: top;\n",
       "    }\n",
       "\n",
       "    .dataframe thead th {\n",
       "        text-align: right;\n",
       "    }\n",
       "</style>\n",
       "<table border=\"1\" class=\"dataframe\">\n",
       "  <thead>\n",
       "    <tr style=\"text-align: right;\">\n",
       "      <th></th>\n",
       "      <th>video_id</th>\n",
       "      <th>title</th>\n",
       "      <th>view_count</th>\n",
       "      <th>subscriber_count</th>\n",
       "      <th>channel_id</th>\n",
       "    </tr>\n",
       "  </thead>\n",
       "  <tbody>\n",
       "    <tr>\n",
       "      <th>0</th>\n",
       "      <td>L26nKhwlePM</td>\n",
       "      <td>用ChatGPT 撰寫操作Excel 的Python 程式，ChatGPT 能夠取代軟體工程...</td>\n",
       "      <td>140353</td>\n",
       "      <td>8560</td>\n",
       "      <td>UCuD3lRkYg9h02U5_e9c09Kw</td>\n",
       "    </tr>\n",
       "    <tr>\n",
       "      <th>1</th>\n",
       "      <td>mWPI8vI2scQ</td>\n",
       "      <td>[效率提升] 3分钟做完一天的工作?普通人也可以轻松学会的自动化办公技巧</td>\n",
       "      <td>53146</td>\n",
       "      <td>7480</td>\n",
       "      <td>UCkyrFlOF7I6U-IMUxum9HrA</td>\n",
       "    </tr>\n",
       "    <tr>\n",
       "      <th>2</th>\n",
       "      <td>bU7-a7IcJsY</td>\n",
       "      <td>【ひろゆき】経理の業務、PythonでExcel効率化したい</td>\n",
       "      <td>53212</td>\n",
       "      <td>140</td>\n",
       "      <td>UCZXRMLFAzFeQf-Qm5QnLWyA</td>\n",
       "    </tr>\n",
       "  </tbody>\n",
       "</table>\n",
       "</div>"
      ],
      "text/plain": [
       "      video_id                                              title view_count  \\\n",
       "0  L26nKhwlePM  用ChatGPT 撰寫操作Excel 的Python 程式，ChatGPT 能夠取代軟體工程...     140353   \n",
       "1  mWPI8vI2scQ               [效率提升] 3分钟做完一天的工作?普通人也可以轻松学会的自动化办公技巧      53146   \n",
       "2  bU7-a7IcJsY                     【ひろゆき】経理の業務、PythonでExcel効率化したい      53212   \n",
       "\n",
       "   subscriber_count                channel_id  \n",
       "0              8560  UCuD3lRkYg9h02U5_e9c09Kw  \n",
       "1              7480  UCkyrFlOF7I6U-IMUxum9HrA  \n",
       "2               140  UCZXRMLFAzFeQf-Qm5QnLWyA  "
      ]
     },
     "execution_count": 72,
     "metadata": {},
     "output_type": "execute_result"
    }
   ],
   "source": [
    "results[:3]"
   ]
  }
 ],
 "metadata": {
  "kernelspec": {
   "display_name": "venv",
   "language": "python",
   "name": "python3"
  },
  "language_info": {
   "codemirror_mode": {
    "name": "ipython",
    "version": 3
   },
   "file_extension": ".py",
   "mimetype": "text/x-python",
   "name": "python",
   "nbconvert_exporter": "python",
   "pygments_lexer": "ipython3",
   "version": "3.12.4"
  }
 },
 "nbformat": 4,
 "nbformat_minor": 2
}
